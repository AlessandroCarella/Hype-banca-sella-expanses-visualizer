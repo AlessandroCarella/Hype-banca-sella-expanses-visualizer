{
 "cells": [
  {
   "cell_type": "code",
   "execution_count": 1,
   "metadata": {},
   "outputs": [],
   "source": [
    "import pandas as pd"
   ]
  },
  {
   "cell_type": "code",
   "execution_count": 2,
   "metadata": {},
   "outputs": [],
   "source": [
    "mock = \"ec_22_09_2023_31_08_2024.csv\""
   ]
  },
  {
   "cell_type": "code",
   "execution_count": 3,
   "metadata": {},
   "outputs": [],
   "source": [
    "df = pd.read_csv(mock, encoding= 'unicode_escape')"
   ]
  },
  {
   "cell_type": "code",
   "execution_count": 4,
   "metadata": {},
   "outputs": [
    {
     "name": "stdout",
     "output_type": "stream",
     "text": [
      "Data operazione\n",
      "Data contabile\n",
      "Tipologia\n",
      "Nome\n",
      "Descrizione\n",
      "Importo ( âÂ )\n"
     ]
    }
   ],
   "source": [
    "for col in df.columns:\n",
    "    print (col)"
   ]
  },
  {
   "cell_type": "markdown",
   "metadata": {},
   "source": [
    "need to clean the name of the Importo column"
   ]
  },
  {
   "cell_type": "code",
   "execution_count": 5,
   "metadata": {},
   "outputs": [
    {
     "name": "stdout",
     "output_type": "stream",
     "text": [
      "Data operazione\n",
      "Data contabile\n",
      "Tipologia\n",
      "Nome\n",
      "Descrizione\n",
      "Importo\n"
     ]
    }
   ],
   "source": [
    "df[\"Importo\"] = df[list(df.columns)[-1]]\n",
    "del df[list(df.columns)[-2]]\n",
    "for col in df.columns:\n",
    "    print (col)"
   ]
  },
  {
   "cell_type": "markdown",
   "metadata": {},
   "source": [
    "we are only interested in the column tipologia"
   ]
  },
  {
   "cell_type": "code",
   "execution_count": 6,
   "metadata": {},
   "outputs": [
    {
     "data": {
      "text/plain": [
       "0                 Risparmi\n",
       "1                   PagoPA\n",
       "2                   PagoPA\n",
       "3       Bonifico ordinario\n",
       "4                Pagamento\n",
       "               ...        \n",
       "1071             Pagamento\n",
       "1072             Pagamento\n",
       "1073              Risparmi\n",
       "1074             Pagamento\n",
       "1075             Pagamento\n",
       "Name: Tipologia, Length: 1076, dtype: object"
      ]
     },
     "execution_count": 6,
     "metadata": {},
     "output_type": "execute_result"
    }
   ],
   "source": [
    "df[\"Tipologia\"]"
   ]
  },
  {
   "cell_type": "markdown",
   "metadata": {},
   "source": [
    "as we can see some values are nan"
   ]
  },
  {
   "cell_type": "code",
   "execution_count": 7,
   "metadata": {},
   "outputs": [],
   "source": [
    "# commented for privacy\n",
    "# df[df['Tipologia'].isna()]"
   ]
  },
  {
   "cell_type": "markdown",
   "metadata": {},
   "source": [
    "checking in the csv file those rows are badly parsed\n",
    "\n",
    "everything is in the first column"
   ]
  },
  {
   "cell_type": "markdown",
   "metadata": {},
   "source": [
    "need to clean the name of the Importo column"
   ]
  },
  {
   "cell_type": "code",
   "execution_count": 8,
   "metadata": {},
   "outputs": [],
   "source": [
    "# commented for privacy\n",
    "# list(df[df['Tipologia'].isna()][\"Data operazione\"])"
   ]
  },
  {
   "cell_type": "markdown",
   "metadata": {},
   "source": [
    "as we can see those are either wire transfers or alike operations"
   ]
  },
  {
   "cell_type": "markdown",
   "metadata": {},
   "source": [
    "even tho they are all in the same column they still are separated by a ,\n",
    "\n",
    "so we can just clean the initial file and read as usual"
   ]
  },
  {
   "cell_type": "markdown",
   "metadata": {},
   "source": [
    "checking the csv file it's clear that we just need to remove the \" chars from the affected rows"
   ]
  },
  {
   "cell_type": "markdown",
   "metadata": {},
   "source": [
    "after further investigations it came to mind that the fields Nome and Descrizione might contain \" chars, the following implementation"
   ]
  },
  {
   "cell_type": "markdown",
   "metadata": {},
   "source": [
    "as one can see in the code below i split the row by the \",\" and afterward i clean it\n",
    "\n",
    "by analysis it appeared that the number of elements in irregular rows variates (from the original 6) between 7 and 8"
   ]
  },
  {
   "cell_type": "markdown",
   "metadata": {},
   "source": [
    "since the first element is always the \"data operazione\", the second is always \"data contabile\", the third is \"tipologia\" and the LAST is \"importo\" i decided to split the values based on the number of total elements\n",
    "\n",
    "if the total number of elements is 7 the middle value goes to the left field\n",
    "\n",
    "if the total number of elements is 8 one middle value goes to the left and the other to the right"
   ]
  },
  {
   "cell_type": "code",
   "execution_count": 9,
   "metadata": {},
   "outputs": [],
   "source": [
    "import os\n",
    "\n",
    "def clean_csv(output_file):\n",
    "    with open(output_file, 'w', newline='\\n') as outfile:\n",
    "        write_header(outfile, df.columns)\n",
    "        for row in df.iterrows():\n",
    "            row_data = process_row(row[1])\n",
    "            outfile.write(row_data + \"\\n\")\n",
    "\n",
    "def write_header(outfile, columns):\n",
    "    header = \",\".join(columns) + \"\\n\"\n",
    "    outfile.write(header)\n",
    "\n",
    "def process_row(row):\n",
    "    row_list = [str(col) for col in row]\n",
    "    if all(value == \"nan\" for value in row_list[1:6]):\n",
    "        return clean_splitted_row(row_list[0])\n",
    "    return \",\".join(row_list).replace('\"', '')\n",
    "\n",
    "def clean_splitted_row(row_string):\n",
    "    splitted_row = row_string.split(\",\")\n",
    "    if len(splitted_row) <= 6:\n",
    "        return row_string.replace('\"', '')\n",
    "\n",
    "    splitted_row = [s.replace('\"', '') for s in splitted_row]\n",
    "    data_operazione, data_contabile, tipologia = splitted_row[:3]\n",
    "    importo = splitted_row[-1]\n",
    "    \n",
    "    if len(splitted_row) == 7:\n",
    "        nome = splitted_row[3] + splitted_row[4]\n",
    "        descrizione = splitted_row[5]\n",
    "    else:\n",
    "        nome = splitted_row[3] + splitted_row[4]\n",
    "        descrizione = splitted_row[5] + splitted_row[6]\n",
    "    \n",
    "    cleaned_row = [data_operazione, data_contabile, tipologia, nome, descrizione, importo]\n",
    "    return \",\".join(cleaned_row).replace('\"', '')\n",
    "\n",
    "os.makedirs('generatedFiles', exist_ok=True)\n",
    "output_file = 'generatedFiles/cleaned_csv.csv'\n",
    "clean_csv(output_file)\n"
   ]
  },
  {
   "cell_type": "markdown",
   "metadata": {},
   "source": [
    "now we can read the dataframe without particular issues"
   ]
  }
 ],
 "metadata": {
  "kernelspec": {
   "display_name": "Python 3",
   "language": "python",
   "name": "python3"
  },
  "language_info": {
   "codemirror_mode": {
    "name": "ipython",
    "version": 3
   },
   "file_extension": ".py",
   "mimetype": "text/x-python",
   "name": "python",
   "nbconvert_exporter": "python",
   "pygments_lexer": "ipython3",
   "version": "3.9.13"
  }
 },
 "nbformat": 4,
 "nbformat_minor": 2
}
