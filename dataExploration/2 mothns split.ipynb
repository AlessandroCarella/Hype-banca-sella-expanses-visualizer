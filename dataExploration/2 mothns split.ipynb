{
 "cells": [
  {
   "cell_type": "code",
   "execution_count": 1,
   "metadata": {},
   "outputs": [],
   "source": [
    "import pandas as pd"
   ]
  },
  {
   "cell_type": "code",
   "execution_count": 2,
   "metadata": {},
   "outputs": [],
   "source": [
    "file = \"cleaned_csv.csv\""
   ]
  },
  {
   "cell_type": "code",
   "execution_count": 3,
   "metadata": {},
   "outputs": [],
   "source": [
    "df = pd.read_csv(file, encoding= 'unicode_escape')\n"
   ]
  },
  {
   "cell_type": "code",
   "execution_count": 4,
   "metadata": {},
   "outputs": [
    {
     "data": {
      "text/plain": [
       "Index(['Data operazione', 'Data contabile', 'Tipologia', 'Nome', 'Descrizione',\n",
       "       'Importo'],\n",
       "      dtype='object')"
      ]
     },
     "execution_count": 4,
     "metadata": {},
     "output_type": "execute_result"
    }
   ],
   "source": [
    "df.columns"
   ]
  },
  {
   "cell_type": "markdown",
   "metadata": {},
   "source": [
    "for this purpose we will only use the Data operazione field"
   ]
  },
  {
   "cell_type": "code",
   "execution_count": 5,
   "metadata": {},
   "outputs": [
    {
     "data": {
      "text/plain": [
       "0       29/08/2024\n",
       "1       29/08/2024\n",
       "2       29/08/2024\n",
       "3       29/08/2024\n",
       "4       27/08/2024\n",
       "           ...    \n",
       "1071    23/09/2023\n",
       "1072    23/09/2023\n",
       "1073    22/09/2023\n",
       "1074    22/09/2023\n",
       "1075    22/09/2023\n",
       "Name: Data operazione, Length: 1076, dtype: object"
      ]
     },
     "execution_count": 5,
     "metadata": {},
     "output_type": "execute_result"
    }
   ],
   "source": [
    "df[\"Data operazione\"]"
   ]
  },
  {
   "cell_type": "markdown",
   "metadata": {},
   "source": [
    "The purpose of this code is to organize financial transaction data by date.\n",
    "\n",
    "By splitting the dataset into separate CSV files for each month and year, we create a more manageable file structure. This approach allows for easier data analysis and reporting on a monthly or yearly basis, and can significantly improve data retrieval and processing efficiency for large datasets spanning multiple years.\n"
   ]
  },
  {
   "cell_type": "code",
   "execution_count": 6,
   "metadata": {},
   "outputs": [
    {
     "name": "stdout",
     "output_type": "stream",
     "text": [
      "CSV files have been created and saved in the 'output' folder.\n"
     ]
    }
   ],
   "source": [
    "import os\n",
    "from datetime import datetime\n",
    "\n",
    "# Convert 'Data operazione' to datetime\n",
    "df['Data operazione'] = pd.to_datetime(df['Data operazione'], format='%d/%m/%Y')\n",
    "\n",
    "# Create a function to save dataframe to CSV\n",
    "def save_to_csv(group, year, month):\n",
    "    folder = f\"output/{year}\"\n",
    "    os.makedirs(folder, exist_ok=True)\n",
    "    file_path = f\"{folder}/{month:02d}.csv\"\n",
    "    \n",
    "    # Convert 'Data operazione' back to original format\n",
    "    group['Data operazione'] = group['Data operazione'].dt.strftime('%d/%m/%Y')\n",
    "    \n",
    "    group.to_csv(file_path, index=False)\n",
    "\n",
    "# Group by year and month, then apply the save function\n",
    "df.groupby([df['Data operazione'].dt.year, df['Data operazione'].dt.month]).apply(\n",
    "    lambda x: save_to_csv(x, x.name[0], x.name[1])\n",
    ")\n",
    "\n",
    "print(\"CSV files have been created and saved in the 'output' folder.\")"
   ]
  }
 ],
 "metadata": {
  "kernelspec": {
   "display_name": "Python 3",
   "language": "python",
   "name": "python3"
  },
  "language_info": {
   "codemirror_mode": {
    "name": "ipython",
    "version": 3
   },
   "file_extension": ".py",
   "mimetype": "text/x-python",
   "name": "python",
   "nbconvert_exporter": "python",
   "pygments_lexer": "ipython3",
   "version": "3.9.13"
  }
 },
 "nbformat": 4,
 "nbformat_minor": 2
}
